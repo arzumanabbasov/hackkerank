{
  "nbformat": 4,
  "nbformat_minor": 0,
  "metadata": {
    "colab": {
      "provenance": []
    },
    "kernelspec": {
      "name": "python3",
      "display_name": "Python 3"
    },
    "language_info": {
      "name": "python"
    }
  },
  "cells": [
    {
      "cell_type": "markdown",
      "source": [
        "# **Feature Selection Task: Instructions**\n",
        "\n",
        "Welcome to the feature selection evaluation task! Below are the instructions you need to follow to complete this exercise.\n",
        "\n",
        "---\n",
        "\n",
        "## **1. Objective**\n",
        "The goal is to select the optimal set of features that maximizes the AUC score while using the **minimum number of features**. You will:\n",
        "- Propose a feature list (e.g., 8, 10, 20 features).\n",
        "- Train and test a model using these features.\n",
        "- Measure AUC and verify which features are truly contributing to model performance.\n",
        "\n",
        "---\n",
        "\n",
        "## **2. Dataset**\n",
        "### **Load the Dataset**\n",
        "- The dataset is provided in the notebook or as a file.\n",
        "- Load the dataset into your environment using `pandas`.\n",
        "\n",
        "---\n",
        "\n",
        "## **3. Steps to Complete the Task**\n",
        "\n",
        "### **Step 1: Split the Data**\n",
        "1. Split the dataset into **training** and **testing** sets.\n",
        "   - Suggested ratio: 80% training, 20% testing.\n",
        "   - Use `train_test_split` from `sklearn` to ensure a random but reproducible split.\n",
        "\n",
        "### **Step 2: Select Features**\n",
        "2. Decide on a list of features you think are important:\n",
        "   - **Example**: Start with 8, 10, or 20 features.\n",
        "   - Select features based on any method you prefer (e.g., domain knowledge, correlation, feature importance from models like Random Forest, etc.).\n",
        "\n",
        "### **Step 3: Train a Model**\n",
        "3. Train a model using your chosen features:\n",
        "   - Use any binary classification model you prefer (e.g., Logistic Regression, Random Forest, Decision Tree, etc.).\n",
        "   - Ensure the model is trained only on the **training set**.\n",
        "\n",
        "### **Step 4: Evaluate**\n",
        "4. Evaluate the model on the **test set**:\n",
        "   - Measure the **AUC score**.\n",
        "   - Identify which features significantly impact the AUC score.\n",
        "\n",
        "---\n",
        "\n",
        "## **4. Criteria for Evaluation**\n",
        "- You must aim to **minimize the number of features** while maintaining a high AUC score.\n",
        "- **Do not select features arbitrarily**:\n",
        "  - If your initial feature list includes features that have no significant impact, you are expected to refine the selection.\n",
        "  - Keep features only if they improve or maintain the AUC score.\n",
        "\n",
        "---\n",
        "\n",
        "## **5. Recommendations**\n",
        "- Use any method to calculate feature importance (e.g., Random Forest feature importance, SHAP values, etc.).\n",
        "- Document your process clearly:\n",
        "  - List the selected features.\n",
        "  - Show the AUC scores before and after feature refinement.\n",
        "  - Explain why specific features were kept or removed.\n",
        "\n",
        "---\n",
        "\n",
        "## **6. Deliverables**\n",
        "By the end of the task, you should submit:\n",
        "1. A final AUC score on the **test set**.\n",
        "2. A list of selected features.\n",
        "3. A brief explanation of your process and decisions.\n",
        "\n",
        "---\n",
        "\n",
        "### **Notes**\n",
        "- The dataset contains **X features** and **Y target**.\n",
        "- Aim for an initial selection of **8-10 features**, but you can experiment with more or fewer as you refine the list."
      ],
      "metadata": {
        "id": "NdV1dAWBY3tL"
      }
    },
    {
      "cell_type": "code",
      "source": [
        "import pandas as pd\n",
        "import numpy as np\n",
        "from typing import List, Tuple, Dict"
      ],
      "metadata": {
        "id": "Y2WG8TNvexDu"
      },
      "execution_count": 2,
      "outputs": []
    },
    {
      "cell_type": "code",
      "source": [
        "def load_and_prepare_data(data: pd.DataFrame) -> Tuple[pd.DataFrame, pd.Series]:\n",
        "    \"\"\"\n",
        "    Load and prepare the dataset for feature selection.\n",
        "    You should:\n",
        "    1. Separate features (X) and target variable (y)\n",
        "    2. Handle any missing values if present\n",
        "    3. Perform any necessary data type conversions\n",
        "\n",
        "    Parameters:\n",
        "    data (pd.DataFrame): Input dataset with 'target' column\n",
        "\n",
        "    Returns:\n",
        "    Tuple[pd.DataFrame, pd.Series]: Features (X) and target variable (y)\n",
        "    \"\"\"\n",
        "    # YOUR CODE HERE\n",
        "    pass\n"
      ],
      "metadata": {
        "id": "zT7UAAmGXyX-"
      },
      "execution_count": null,
      "outputs": []
    },
    {
      "cell_type": "code",
      "source": [
        "def split_dataset(X: pd.DataFrame, y: pd.Series) -> Tuple[pd.DataFrame, pd.DataFrame, pd.Series, pd.Series]:\n",
        "    \"\"\"\n",
        "    Split the dataset into training and testing sets (80% train, 20% test).\n",
        "\n",
        "    Parameters:\n",
        "    X (pd.DataFrame): Feature matrix\n",
        "    y (pd.Series): Target variable\n",
        "\n",
        "    Returns:\n",
        "    Tuple containing (X_train, X_test, y_train, y_test)\n",
        "    \"\"\"\n",
        "    # YOUR CODE HERE\n",
        "    pass"
      ],
      "metadata": {
        "id": "Chs1CAB0X2ri"
      },
      "execution_count": null,
      "outputs": []
    },
    {
      "cell_type": "code",
      "source": [
        "def select_features(X_train: pd.DataFrame, y_train: pd.Series, n_features: int) -> List[str]:\n",
        "    \"\"\"\n",
        "    Select the top N most important features using any method you prefer.\n",
        "    You should:\n",
        "    1. Calculate feature importance using any method\n",
        "    2. Select the top n_features based on importance\n",
        "    3. Return the list of selected feature names\n",
        "\n",
        "    Parameters:\n",
        "    X_train (pd.DataFrame): Training features\n",
        "    y_train (pd.Series): Training target\n",
        "    n_features (int): Number of features to select\n",
        "\n",
        "    Returns:\n",
        "    List[str]: List of selected feature names\n",
        "    \"\"\"\n",
        "    # YOUR CODE HERE\n",
        "    pass"
      ],
      "metadata": {
        "id": "Z03djyaxX7Ap"
      },
      "execution_count": null,
      "outputs": []
    },
    {
      "cell_type": "code",
      "source": [
        "def train_and_evaluate(X_train: pd.DataFrame,\n",
        "                      X_test: pd.DataFrame,\n",
        "                      y_train: pd.Series,\n",
        "                      y_test: pd.Series,\n",
        "                      selected_features: List[str]) -> float:\n",
        "    \"\"\"\n",
        "    Train a model using selected features and evaluate its performance.\n",
        "    You should:\n",
        "    1. Train any classification model of your choice\n",
        "    2. Make predictions on test set\n",
        "    3. Calculate and return the AUC score\n",
        "\n",
        "    Parameters:\n",
        "    X_train (pd.DataFrame): Training features\n",
        "    X_test (pd.DataFrame): Testing features\n",
        "    y_train (pd.Series): Training target\n",
        "    y_test (pd.Series): Testing target\n",
        "    selected_features (List[str]): List of features to use\n",
        "\n",
        "    Returns:\n",
        "    float: AUC score on test set\n",
        "    \"\"\"\n",
        "    # YOUR CODE HERE\n",
        "    pass"
      ],
      "metadata": {
        "id": "BjaGT7vkYBED"
      },
      "execution_count": null,
      "outputs": []
    },
    {
      "cell_type": "code",
      "source": [
        "def feature_selection_pipeline(data: pd.DataFrame, n_features: int) -> Tuple[List[str], float]:\n",
        "    \"\"\"\n",
        "    Complete feature selection pipeline that combines all steps.\n",
        "    This function should:\n",
        "    1. Load and prepare the data\n",
        "    2. Split the dataset\n",
        "    3. Select the best features\n",
        "    4. Train and evaluate the model\n",
        "    5. Return selected features and final AUC score\n",
        "\n",
        "    Parameters:\n",
        "    data (pd.DataFrame): Input dataset\n",
        "    n_features (int): Number of features to select\n",
        "\n",
        "    Returns:\n",
        "    Tuple[List[str], float]: Selected feature names and final AUC score\n",
        "    \"\"\"\n",
        "    # YOUR CODE HERE\n",
        "    return selected_features, auc_score"
      ],
      "metadata": {
        "id": "n0ZlwyH6YEdy"
      },
      "execution_count": null,
      "outputs": []
    },
    {
      "cell_type": "code",
      "source": [
        "def submit(selected_features: List[str]):\n",
        "  with open('submission.csv', 'w') as f:\n",
        "    f.write(f\"Selected Features: {selected_features}\\n\")"
      ],
      "metadata": {
        "id": "lLA0aILfZoVr"
      },
      "execution_count": null,
      "outputs": []
    }
  ]
}